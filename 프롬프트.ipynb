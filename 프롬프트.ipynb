{
 "cells": [
  {
   "cell_type": "code",
   "execution_count": 7,
   "metadata": {},
   "outputs": [],
   "source": [
    "from openai import OpenAI\n",
    "import os\n",
    "from groq import Groq\n",
    "import copy\n",
    "import configs\n",
    "import pickle\n",
    "import re\n",
    "\n",
    "os.environ[\"OPENAI_API_KEY\"] = \"\"\n",
    "client = OpenAI()"
   ]
  },
  {
   "cell_type": "code",
   "execution_count": 4,
   "metadata": {},
   "outputs": [],
   "source": [
    "response = client.chat.completions.create(\n",
    "        model=\"gpt-4\",\n",
    "        messages=[\n",
    "            {\"role\": \"system\", \"content\": \"당신은 방향 감각이 뛰어난 탐험가입니다. 당신은 목표물에 도달하기 위해서 어떤 경로를 탐색하야 할지 잘 압니다.\"},\n",
    "            {\"role\": \"user\", \"content\":\n",
    "                f\"\"\"\n",
    "                당신의 현재 좌표는 (131,134) 이며 당신의 목표 지점은 (23,200) 입니다.\n",
    "                서쪽은 -x축에 대응합니다\n",
    "                동쪽은 +x축에 대응합니다\n",
    "                남쪽은 -y축에 대응합니다\n",
    "                북쪽은 +y축에 대응합니다\n",
    "\n",
    "                1. 당신의 목표 지점은 당신으로부터 어느 방향에 있는지 한 단어로 말하시오.\n",
    "                \n",
    "                Example: {{south}}, {{southwest}}, {{west}}, {{northwest}}, {{north}}, {{northeast}}, {{east}}, {{southeast}}\n",
    "                \n",
    "                당신은 가로로 긴 창고 환경에 있기 때문에, y축으로 이동이 가능할 때는 y축을 먼저 이용하는 것이 강력하게 추천됩니다. (남쪽과 북쪽)\n",
    "                당신의 동쪽은 벽으로 막혀 있습니다.\n",
    "                당신의 서쪽은 열려 있습니다.\n",
    "                당신의 북쪽은 열려 있습니다.\n",
    "                당신의 남쪽은 열려 있습니다.\n",
    "\n",
    "                당신은 한 번에 한 번만 움직일 수 있습니다.\n",
    "                당신은 동쪽, 서쪽, 남쪽, 북쪽, 그리고 가만히 있기 5가지의 선택지가 있습니다.\n",
    "                따라서, 당신의 답은 east, west, south, north, stay 중 하나가 됩니다.\n",
    "\n",
    "                2. 당신은 다음 어느 방향으로 움직일지 한 단어로 말하시오.\n",
    "\n",
    "                Example: {{east}}, {{west}}, {{south}}, {{north}}, {{stay}}\n",
    "\n",
    "                아래는 바람직한 답변의 예시입니다. 토큰을 많이 쓰지 마세요.\n",
    "                1. {{southeast}}\n",
    "                2. {{south}}\n",
    "                \"\"\"\n",
    "            }],\n",
    "        )\n",
    "\n",
    "result = response.choices[0].message.content"
   ]
  },
  {
   "cell_type": "code",
   "execution_count": 5,
   "metadata": {},
   "outputs": [
    {
     "data": {
      "text/plain": [
       "'north'"
      ]
     },
     "execution_count": 5,
     "metadata": {},
     "output_type": "execute_result"
    }
   ],
   "source": [
    "lines = result.split('\\n')\n",
    "\n",
    "for line in lines:\n",
    "    match = re.search(r'\\d+\\.\\s*(\\w+)', line)\n",
    "    if match:\n",
    "        direction = match.group(1).lower()\n",
    "\n",
    "direction"
   ]
  },
  {
   "cell_type": "code",
   "execution_count": 11,
   "metadata": {},
   "outputs": [
    {
     "name": "stdout",
     "output_type": "stream",
     "text": [
      "north\n"
     ]
    }
   ],
   "source": [
    "response = client.chat.completions.create(\n",
    "        model=\"gpt-4\",\n",
    "        messages=[\n",
    "            {\"role\": \"system\", \"content\": \"당신은 방향 감각이 뛰어난 탐험가입니다. 당신은 목표물에 도달하기 위해서 어떤 경로를 탐색하야 할지 잘 압니다.\"},\n",
    "            {\"role\": \"user\", \"content\":\n",
    "                f\"\"\"\n",
    "                당신의 지난 방문한 좌표들은 다음과 같습니다.\n",
    "                오른쪽으로 갈수록 당신이 최근에 방문한 좌표입니다.\n",
    "                [(0,1), (0, 2), (0, 3), (0, 4), (0, 5)]\n",
    "\n",
    "                1. 여기서 만약 계속 반복되는 좌표가 있다면, 그 좌표를 지정하고 dead end라는 답을 내세요. 아니라면, no라는 답을 내세요.\n",
    "\n",
    "                당신의 목표 지점은 당신의 북서쪽 방향에 있습니다.\n",
    "                \n",
    "                당신은 가로로 긴 창고 환경에 있기 때문에, y축으로 이동이 가능할 때는 y축을 먼저 이용하는 것이 강력하게 추천됩니다. (남쪽과 북쪽)\n",
    "                당신의 동쪽은 벽으로 막혀 있습니다.\n",
    "                당신의 서쪽은 열려 있습니다.\n",
    "                당신의 북쪽은 열려 있습니다.\n",
    "                당신의 남쪽은 열려 있습니다.\n",
    "\n",
    "                당신은 한 번에 한 번만 움직일 수 있습니다.\n",
    "                당신은 동쪽, 서쪽, 남쪽, 북쪽, 그리고 가만히 있기 5가지의 선택지가 있습니다.\n",
    "\n",
    "                당신은 다음 어느 방향으로 움직일지 결정하세요.\n",
    "\n",
    "                아래는 답변의 예시입니다. 토큰을 많이 사용하지 마세요.\n",
    "                1. no\n",
    "                2. north\n",
    "\n",
    "                1. dead end at (2, 3)\n",
    "                2. south\n",
    "                \"\"\"\n",
    "            }],\n",
    "        )\n",
    "\n",
    "result = response.choices[0].message.content\n",
    "\n",
    "lines = result.split('\\n')\n",
    "\n",
    "# 첫 번째 줄과 두 번째 줄을 변수에 할당\n",
    "result1 = lines[0]\n",
    "result2 = lines[1]\n",
    "\n",
    "if \"dead end\" in result1:\n",
    "    print(result1.split(\" at \")[1])\n",
    "else:\n",
    "    print(result2.split(\". \")[1])"
   ]
  },
  {
   "cell_type": "code",
   "execution_count": 13,
   "metadata": {},
   "outputs": [
    {
     "data": {
      "text/plain": [
       "3"
      ]
     },
     "execution_count": 13,
     "metadata": {},
     "output_type": "execute_result"
    }
   ],
   "source": [
    "(2, 3)[1]"
   ]
  },
  {
   "cell_type": "code",
   "execution_count": 83,
   "metadata": {},
   "outputs": [
    {
     "data": {
      "text/plain": [
       "'east'"
      ]
     },
     "execution_count": 83,
     "metadata": {},
     "output_type": "execute_result"
    }
   ],
   "source": [
    "response = client.chat.completions.create(\n",
    "        model=\"gpt-4\",\n",
    "        messages=[\n",
    "            {\"role\": \"system\", \"content\": \"당신은 방향 감각이 뛰어난 탐험가입니다. 당신은 목표물에 도달하기 위해서 어떤 경로를 탐색하야 할지 잘 압니다.\"},\n",
    "            {\"role\": \"user\", \"content\":\n",
    "                f\"\"\"\n",
    "                당신은 dead end에서 똑같은 위치를 반복하고 있는 상태입니다.\n",
    "\n",
    "                반복되는 좌표의 위치는 당신 기준 northwest입니다.\n",
    "\n",
    "                당신은 dead end로부터 최대한 멀리 떨어져야 합니다.\n",
    "\n",
    "                당신의 행동에는 east, west, south, north의 선택지가 있습니다.\n",
    "\n",
    "                1. 당신은 다음 어느 방향으로 움직일지 결정하세요.\n",
    "\n",
    "                아래는 답변의 예시입니다. Answer with only one word.\n",
    "                south\n",
    "                \"\"\"\n",
    "            }],\n",
    "        )\n",
    "\n",
    "result = response.choices[0].message.content\n",
    "\n",
    "result"
   ]
  },
  {
   "cell_type": "code",
   "execution_count": 26,
   "metadata": {},
   "outputs": [],
   "source": [
    "client = Groq(api_key=\"\")"
   ]
  },
  {
   "cell_type": "code",
   "execution_count": 1,
   "metadata": {},
   "outputs": [
    {
     "ename": "NameError",
     "evalue": "name 'client' is not defined",
     "output_type": "error",
     "traceback": [
      "\u001b[1;31m---------------------------------------------------------------------------\u001b[0m",
      "\u001b[1;31mNameError\u001b[0m                                 Traceback (most recent call last)",
      "Cell \u001b[1;32mIn[1], line 1\u001b[0m\n\u001b[1;32m----> 1\u001b[0m response \u001b[38;5;241m=\u001b[39m \u001b[43mclient\u001b[49m\u001b[38;5;241m.\u001b[39mchat\u001b[38;5;241m.\u001b[39mcompletions\u001b[38;5;241m.\u001b[39mcreate(\n\u001b[0;32m      2\u001b[0m         model\u001b[38;5;241m=\u001b[39m\u001b[38;5;124m\"\u001b[39m\u001b[38;5;124mllama3-8b-8192\u001b[39m\u001b[38;5;124m\"\u001b[39m,\n\u001b[0;32m      3\u001b[0m         messages\u001b[38;5;241m=\u001b[39m[\n\u001b[0;32m      4\u001b[0m             {\u001b[38;5;124m\"\u001b[39m\u001b[38;5;124mrole\u001b[39m\u001b[38;5;124m\"\u001b[39m: \u001b[38;5;124m\"\u001b[39m\u001b[38;5;124msystem\u001b[39m\u001b[38;5;124m\"\u001b[39m, \u001b[38;5;124m\"\u001b[39m\u001b[38;5;124mcontent\u001b[39m\u001b[38;5;124m\"\u001b[39m: \u001b[38;5;124m\"\u001b[39m\u001b[38;5;124m당신은 방향 감각이 뛰어난 탐험가입니다. 당신은 목표물에 도달하기 위해서 어떤 경로를 탐색하야 할지 잘 압니다.\u001b[39m\u001b[38;5;124m\"\u001b[39m},\n\u001b[0;32m      5\u001b[0m             {\u001b[38;5;124m\"\u001b[39m\u001b[38;5;124mrole\u001b[39m\u001b[38;5;124m\"\u001b[39m: \u001b[38;5;124m\"\u001b[39m\u001b[38;5;124muser\u001b[39m\u001b[38;5;124m\"\u001b[39m, \u001b[38;5;124m\"\u001b[39m\u001b[38;5;124mcontent\u001b[39m\u001b[38;5;124m\"\u001b[39m:\n\u001b[0;32m      6\u001b[0m                 \u001b[38;5;124mf\u001b[39m\u001b[38;5;124m\"\"\"\u001b[39m\n\u001b[0;32m      7\u001b[0m \u001b[38;5;124m                당신의 현재 좌표는 (131,134) 이며 당신의 목표 지점은 (23,200) 입니다.\u001b[39m\n\u001b[0;32m      8\u001b[0m \u001b[38;5;124m                서쪽은 -x축에 대응합니다\u001b[39m\n\u001b[0;32m      9\u001b[0m \u001b[38;5;124m                동쪽은 +x축에 대응합니다\u001b[39m\n\u001b[0;32m     10\u001b[0m \u001b[38;5;124m                남쪽은 -y축에 대응합니다\u001b[39m\n\u001b[0;32m     11\u001b[0m \u001b[38;5;124m                북쪽은 +y축에 대응합니다\u001b[39m\n\u001b[0;32m     12\u001b[0m \n\u001b[0;32m     13\u001b[0m \u001b[38;5;124m                1. 당신의 목표 지점은 당신으로부터 어느 방향에 있는지 한 단어로 말하시오.\u001b[39m\n\u001b[0;32m     14\u001b[0m \u001b[38;5;124m                \u001b[39m\n\u001b[0;32m     15\u001b[0m \u001b[38;5;124m                Example: south, southwest, west, northwest, north, northeast, east, southeast\u001b[39m\n\u001b[0;32m     16\u001b[0m \u001b[38;5;124m                \u001b[39m\n\u001b[0;32m     17\u001b[0m \u001b[38;5;124m                당신은 가로로 긴 창고 환경에 있기 때문에, y축으로 이동이 가능할 때는 y축을 먼저 이용하는 것이 강력하게 추천됩니다. (남쪽과 북쪽)\u001b[39m\n\u001b[0;32m     18\u001b[0m \u001b[38;5;124m                당신의 동쪽은 벽으로 막혀 있습니다.\u001b[39m\n\u001b[0;32m     19\u001b[0m \u001b[38;5;124m                당신의 서쪽은 열려 있습니다.\u001b[39m\n\u001b[0;32m     20\u001b[0m \u001b[38;5;124m                당신의 북쪽은 열려 있습니다.\u001b[39m\n\u001b[0;32m     21\u001b[0m \u001b[38;5;124m                당신의 남쪽은 열려 있습니다.\u001b[39m\n\u001b[0;32m     22\u001b[0m \n\u001b[0;32m     23\u001b[0m \u001b[38;5;124m                당신은 한 번에 한 번만 움직일 수 있습니다.\u001b[39m\n\u001b[0;32m     24\u001b[0m \u001b[38;5;124m                당신은 동쪽, 서쪽, 남쪽, 북쪽, 그리고 가만히 있기 5가지의 선택지가 있습니다.\u001b[39m\n\u001b[0;32m     25\u001b[0m \u001b[38;5;124m                따라서, 당신의 답은 east, west, south, north, stay 중 하나가 됩니다.\u001b[39m\n\u001b[0;32m     26\u001b[0m \n\u001b[0;32m     27\u001b[0m \u001b[38;5;124m                2. 당신은 다음 어느 방향으로 움직일지 한 단어로 말하시오.\u001b[39m\n\u001b[0;32m     28\u001b[0m \n\u001b[0;32m     29\u001b[0m \u001b[38;5;124m                Example: east, west, south, north, stay\u001b[39m\n\u001b[0;32m     30\u001b[0m \u001b[38;5;124m                \u001b[39m\u001b[38;5;124m\"\"\"\u001b[39m\n\u001b[0;32m     31\u001b[0m             }],\n\u001b[0;32m     32\u001b[0m         )\n\u001b[0;32m     34\u001b[0m response\u001b[38;5;241m.\u001b[39mchoices[\u001b[38;5;241m0\u001b[39m]\u001b[38;5;241m.\u001b[39mmessage\u001b[38;5;241m.\u001b[39mcontent\n",
      "\u001b[1;31mNameError\u001b[0m: name 'client' is not defined"
     ]
    }
   ],
   "source": [
    "response = client.chat.completions.create(\n",
    "        model=\"llama3-8b-8192\",\n",
    "        messages=[\n",
    "            {\"role\": \"system\", \"content\": \"당신은 방향 감각이 뛰어난 탐험가입니다. 당신은 목표물에 도달하기 위해서 어떤 경로를 탐색하야 할지 잘 압니다.\"},\n",
    "            {\"role\": \"user\", \"content\":\n",
    "                f\"\"\"\n",
    "                당신의 현재 좌표는 (131,134) 이며 당신의 목표 지점은 (23,200) 입니다.\n",
    "                서쪽은 -x축에 대응합니다\n",
    "                동쪽은 +x축에 대응합니다\n",
    "                남쪽은 -y축에 대응합니다\n",
    "                북쪽은 +y축에 대응합니다\n",
    "\n",
    "                1. 당신의 목표 지점은 당신으로부터 어느 방향에 있는지 한 단어로 말하시오.\n",
    "                \n",
    "                Example: south, southwest, west, northwest, north, northeast, east, southeast\n",
    "                \n",
    "                당신은 가로로 긴 창고 환경에 있기 때문에, y축으로 이동이 가능할 때는 y축을 먼저 이용하는 것이 강력하게 추천됩니다. (남쪽과 북쪽)\n",
    "                당신의 동쪽은 벽으로 막혀 있습니다.\n",
    "                당신의 서쪽은 열려 있습니다.\n",
    "                당신의 북쪽은 열려 있습니다.\n",
    "                당신의 남쪽은 열려 있습니다.\n",
    "\n",
    "                당신은 한 번에 한 번만 움직일 수 있습니다.\n",
    "                당신은 동쪽, 서쪽, 남쪽, 북쪽, 그리고 가만히 있기 5가지의 선택지가 있습니다.\n",
    "                따라서, 당신의 답은 east, west, south, north, stay 중 하나가 됩니다.\n",
    "\n",
    "                2. 당신은 다음 어느 방향으로 움직일지 한 단어로 말하시오.\n",
    "\n",
    "                Example: east, west, south, north, stay\n",
    "                \"\"\"\n",
    "            }],\n",
    "        )\n",
    "\n",
    "response.choices[0].message.content"
   ]
  },
  {
   "cell_type": "code",
   "execution_count": 12,
   "metadata": {},
   "outputs": [],
   "source": [
    "import openai\n",
    "import concurrent.futures\n",
    "\n",
    "# OpenAI API 키 설정\n",
    "\n",
    "# Chat Completion을 수행할 함수 정의\n",
    "def get_chat_completion(a):\n",
    "    response = client.chat.completions.create(\n",
    "        model=\"gpt-4\",\n",
    "        messages=[\n",
    "            {\"role\": \"system\", \"content\": \"당신은 방향 감각이 뛰어난 탐험가입니다. 당신은 목표물에 도달하기 위해서 어떤 경로를 탐색하야 할지 잘 압니다.\"},\n",
    "            {\"role\": \"user\", \"content\":\n",
    "                f\"\"\"\n",
    "                당신의 현재 좌표는 (131,134) 이며 당신의 목표 지점은 (23,200) 입니다.\n",
    "                서쪽은 -x축에 대응합니다\n",
    "                동쪽은 +x축에 대응합니다\n",
    "                남쪽은 -y축에 대응합니다\n",
    "                북쪽은 +y축에 대응합니다\n",
    "\n",
    "                1. 당신의 목표 지점은 당신으로부터 어느 방향에 있는지 한 단어로 말하시오.\n",
    "                \n",
    "                Example: {{south}}, {{southwest}}, {{west}}, {{northwest}}, {{north}}, {{northeast}}, {{east}}, {{southeast}}\n",
    "                \n",
    "                당신은 가로로 긴 창고 환경에 있기 때문에, y축으로 이동이 가능할 때는 y축을 먼저 이용하는 것이 강력하게 추천됩니다. (남쪽과 북쪽)\n",
    "                당신의 동쪽은 벽으로 막혀 있습니다.\n",
    "                당신의 서쪽은 열려 있습니다.\n",
    "                당신의 북쪽은 열려 있습니다.\n",
    "                당신의 남쪽은 열려 있습니다.\n",
    "\n",
    "                당신은 한 번에 한 번만 움직일 수 있습니다.\n",
    "                당신은 동쪽, 서쪽, 남쪽, 북쪽, 그리고 가만히 있기 5가지의 선택지가 있습니다.\n",
    "                따라서, 당신의 답은 east, west, south, north, stay 중 하나가 됩니다.\n",
    "\n",
    "                2. 당신은 다음 어느 방향으로 움직일지 한 단어로 말하시오.\n",
    "\n",
    "                Example: {{east}}, {{west}}, {{south}}, {{north}}, {{stay}}\n",
    "\n",
    "                아래는 바람직한 답변의 예시입니다. 토큰을 많이 쓰지 마세요.\n",
    "                1. {{southeast}}\n",
    "                2. {{south}}\n",
    "                \"\"\"\n",
    "            }],\n",
    "        )\n",
    "    \n",
    "    return a, response.choices[0].message.content\n",
    "\n",
    "# 동시에 수행할 프롬프트 목록\n",
    "prompts = [\n",
    "    \"What is the capital of France?\",\n",
    "    \"Explain the theory of relativity.\",\n",
    "    \"How does a blockchain work?\",\n",
    "    \"What are the benefits of meditation?\",\n",
    "    \"Give me a recipe for a chocolate cake.\"\n",
    "]\n",
    "\n",
    "# concurrent.futures를 이용해 동시에 Chat Completion 수행\n",
    "with concurrent.futures.ThreadPoolExecutor(max_workers=5) as executor:\n",
    "    # 각 프롬프트에 대해 비동기 작업 제출\n",
    "    futures = [executor.submit(get_chat_completion, prompt) for prompt in prompts]\n",
    "    \n",
    "    results = []\n",
    "\n",
    "    # 각 작업의 결과 출력\n",
    "    for future in concurrent.futures.as_completed(futures):\n",
    "        result = future.result()\n",
    "        results.append(result)"
   ]
  },
  {
   "cell_type": "code",
   "execution_count": 13,
   "metadata": {},
   "outputs": [
    {
     "data": {
      "text/plain": [
       "[('What is the capital of France?', '1. northwest\\n2. north'),\n",
       " ('Give me a recipe for a chocolate cake.', '1. northwest\\n2. north'),\n",
       " ('How does a blockchain work?', '1. {northwest}\\n2. {north}'),\n",
       " ('What are the benefits of meditation?', '1. northwest\\n2. north'),\n",
       " ('Explain the theory of relativity.', '1. northwest\\n2. north')]"
      ]
     },
     "execution_count": 13,
     "metadata": {},
     "output_type": "execute_result"
    }
   ],
   "source": [
    "results"
   ]
  },
  {
   "cell_type": "code",
   "execution_count": 14,
   "metadata": {},
   "outputs": [
    {
     "name": "stdout",
     "output_type": "stream",
     "text": [
      "3\n",
      "5\n",
      "7\n"
     ]
    }
   ],
   "source": [
    "asdf = [(3, 4), (5, 6), (7, 8)]\n",
    "for (a, b) in asdf:\n",
    "    print(a)"
   ]
  },
  {
   "cell_type": "code",
   "execution_count": null,
   "metadata": {},
   "outputs": [],
   "source": []
  }
 ],
 "metadata": {
  "kernelspec": {
   "display_name": "mapf",
   "language": "python",
   "name": "python3"
  },
  "language_info": {
   "codemirror_mode": {
    "name": "ipython",
    "version": 3
   },
   "file_extension": ".py",
   "mimetype": "text/x-python",
   "name": "python",
   "nbconvert_exporter": "python",
   "pygments_lexer": "ipython3",
   "version": "3.10.14"
  }
 },
 "nbformat": 4,
 "nbformat_minor": 2
}
