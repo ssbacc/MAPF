{
 "cells": [
  {
   "cell_type": "markdown",
   "metadata": {},
   "source": [
    "## Warehouse test"
   ]
  },
  {
   "cell_type": "code",
   "execution_count": 2,
   "metadata": {},
   "outputs": [],
   "source": [
    "import os\n",
    "import numpy as np\n",
    "from environment import Environment\n",
    "from openai import OpenAI\n",
    "import copy\n",
    "import configs\n",
    "import pickle\n",
    "\n",
    "os.environ[\"OPENAI_API_KEY\"] = \"\"\n",
    "client = OpenAI()"
   ]
  },
  {
   "cell_type": "code",
   "execution_count": 3,
   "metadata": {},
   "outputs": [],
   "source": [
    "#negotiator를 구성하기 위한 union find 알고리즘\n",
    "\n",
    "def find(parent, i):\n",
    "    if parent[i] == i:\n",
    "        return i\n",
    "    else:\n",
    "        return find(parent, parent[i])\n",
    "\n",
    "def union(parent, rank, x, y):\n",
    "    xroot = find(parent, x)\n",
    "    yroot = find(parent, y)\n",
    "\n",
    "    if xroot != yroot:\n",
    "        if rank[xroot] < rank[yroot]:\n",
    "            parent[xroot] = yroot\n",
    "        elif rank[xroot] > rank[yroot]:\n",
    "            parent[yroot] = xroot\n",
    "        else:\n",
    "            parent[yroot] = xroot\n",
    "            rank[xroot] += 1\n",
    "\n",
    "def merge_sets(lists):\n",
    "    element_to_index = {}\n",
    "    for i, subset in enumerate(lists):\n",
    "        for element in subset:\n",
    "            element_to_index[element] = i\n",
    "\n",
    "    parent = [i for i in range(len(lists))]\n",
    "    rank = [0] * len(lists)\n",
    "\n",
    "    for subset in lists:\n",
    "        first_element = subset[0]\n",
    "        for element in subset[1:]:\n",
    "            union(parent, rank, find(parent, element_to_index[first_element]), find(parent, element_to_index[element]))\n",
    "\n",
    "    new_sets = {}\n",
    "    for element in element_to_index:\n",
    "        root = find(parent, element_to_index[element])\n",
    "        if root not in new_sets:\n",
    "            new_sets[root] = set()\n",
    "        new_sets[root].add(element)\n",
    "\n",
    "    return [list(s) for s in new_sets.values()]"
   ]
  },
  {
   "cell_type": "code",
   "execution_count": 4,
   "metadata": {},
   "outputs": [
    {
     "data": {
      "image/png": "[encoded data removed]",
      "text/plain": [
       "<Figure size 640x480 with 1 Axes>"
      ]
     },
     "metadata": {},
     "output_type": "display_data"
    }
   ],
   "source": [
    "with open('./test_set/{}_{}agents.pth'.format('warehouse', 4), 'rb') as f:\n",
    "    tests = pickle.load(f)\n",
    "\n",
    "directiondict = {\n",
    "    'stay': 0, 'north': 1, 'south': 2, 'west': 3, 'east': 4\n",
    "}\n",
    "\n",
    "# Toy example 만들기(환경, 처음 위치, 목적지)\n",
    "toy = (np.array([[0, 0, 0, 0, 0, 0, 0, 0, 0, 0, 0], [0, 1, 1, 1, 1, 0, 1, 1, 1, 1, 0], [0, 1, 1, 1, 1, 0, 1, 1, 1, 1, 0], [0, 0, 0, 0, 0, 0, 0, 0, 0, 0, 0], [0, 1, 1, 1, 1, 0, 1, 1, 1, 1, 0], [0, 1, 1, 1, 1, 0, 1, 1, 1, 1, 0], [0, 0, 0, 0, 0, 0, 0, 0, 0, 0, 0]]), np.array([[3, 5], [3, 10]]), np.array([[2, 10], [3, 2]]))\n",
    "num_agents = len(toy[1])\n",
    "map_width = len(toy[0]) - 1\n",
    "\n",
    "env = Environment()\n",
    "env.load(toy[0], toy[1], toy[2])\n",
    "env.render()"
   ]
  },
  {
   "cell_type": "code",
   "execution_count": 15,
   "metadata": {},
   "outputs": [
    {
     "data": {
      "text/plain": [
       "0"
      ]
     },
     "execution_count": 15,
     "metadata": {},
     "output_type": "execute_result"
    }
   ],
   "source": [
    "env.observe()[0][0][0][4][3]"
   ]
  },
  {
   "cell_type": "code",
   "execution_count": 9,
   "metadata": {},
   "outputs": [],
   "source": [
    "class gpt4pathfinding:\n",
    "    def navigate(self, x, y, x_finish, y_finish, east, west, north, south, last_action, coordinates):\n",
    "        response = client.chat.completions.create(\n",
    "        model=\"gpt-4\",\n",
    "        messages=[\n",
    "            {\"role\": \"system\", \"content\": \"You are a veteran adventurer with a great sense of direction. You understand which direction you need to move to get from where you are to where you want to go.\"},\n",
    "            {\"role\": \"user\", \"content\":\n",
    "                f\"\"\"\n",
    "                Your current coordinates are ({x},{y}) and your destination is ({x_finish},{y_finish}).\n",
    "                East and west in the coordinates correspond to the x axis.\n",
    "                South and north in the coordinates correspond to the y axis.\n",
    "                You can only move east, west, south and north or stay.\n",
    "                So, your answer will be {{east}}, {{west}}, {{south}}, {{north}}, or {{stay}}.\n",
    "                You can only make one move at a time.\n",
    "                {east}\n",
    "                {west}\n",
    "                {south}\n",
    "                {north}\n",
    "                {last_action}\n",
    "                Below is a list of the coordinates you visited.\n",
    "                {coordinates}\n",
    "                If you keep hovering over coordinates you've already visited, you're in a dead end, and it is recommended that you visit other place.\n",
    "\n",
    "                Which direction do you move next?\n",
    "\n",
    "                Consider whether moving in that direction will take you to the coordinates you visited.\n",
    "\n",
    "                It is not allowed.\n",
    "\n",
    "                Think step by step.\n",
    "\n",
    "                Answer in one word only: {{direction or action}}\"\"\"\n",
    "            }],\n",
    "        )\n",
    "        return response.choices[0].message.content\n",
    "    \n",
    "    def give_way(self, east, west, north, south, direction):\n",
    "        response = client.chat.completions.create(\n",
    "        model=\"gpt-4\",\n",
    "        messages=[\n",
    "            {\"role\": \"system\", \"content\": \"You are a veteran adventurer with a great sense of direction. You understand which direction you need to move to get from where you are to where you want to go.\"},\n",
    "            {\"role\": \"user\", \"content\":\n",
    "                f\"\"\"\n",
    "                You MUST avoid collisions with prior path finder.\n",
    "                You can only move east, west, south and north or stay.\n",
    "                So, your answer will be {{east}}, {{west}}, {{south}}, {{north}}, or {{stay}}.\n",
    "                You can only make one move at a time.\n",
    "                {east}\n",
    "                {west}\n",
    "                {south}\n",
    "                {north}\n",
    "                To the {direction} of you is prior path finder.\n",
    "                Which direction do you move next?\n",
    "                I highly recommend going to the 90-degree turn rather than the other side of the pathfinder, but you can ignore this instruction depending on your situation.\n",
    "                \n",
    "                Think step by step.\n",
    "\n",
    "                Answer in one word only: {{direction or action}}\"\"\"\n",
    "            }],\n",
    "        )\n",
    "        return response.choices[0].message.content\n"
   ]
  },
  {
   "cell_type": "code",
   "execution_count": 10,
   "metadata": {},
   "outputs": [],
   "source": [
    "#에이전트들의 지난번 액션들과 좌표\n",
    "action_list = [[] for _ in range(num_agents)]\n",
    "coordinate_list = [[] for _ in range(num_agents)]\n",
    "\n",
    "pathfinder = gpt4pathfinding()"
   ]
  },
  {
   "cell_type": "code",
   "execution_count": 11,
   "metadata": {},
   "outputs": [
    {
     "data": {
      "image/png": "[encoded data removed]",
      "text/plain": [
       "<Figure size 640x480 with 1 Axes>"
      ]
     },
     "metadata": {},
     "output_type": "display_data"
    }
   ],
   "source": [
    "# 20 turn\n",
    "for n in range(1):\n",
    "\n",
    "  for i in range(num_agents):\n",
    "     x_coordinate = env.observe()[1][i][1]\n",
    "     y_coordinate = map_width-env.observe()[1][i][0]\n",
    "     coordinate_list[i].append([x_coordinate, y_coordinate])\n",
    "\n",
    "  step = [0 for i in range(num_agents)]\n",
    "\n",
    "  #각 에이전트들의 시야에 있는 자신과 다른 에이전트들\n",
    "  FOV_agents = []\n",
    "  for i in range(num_agents):\n",
    "    if np.any(env.observe()[0][i][0][2:7, 2:7]):\n",
    "      non_zero_elements = env.observe()[0][i][0][2:7, 2:7][env.observe()[0][i][0][2:7, 2:7] != 0].tolist()\n",
    "      non_zero_elements = [element - 1 for element in non_zero_elements]\n",
    "      non_zero_elements.append(i)\n",
    "      FOV_agents.append(non_zero_elements)\n",
    "\n",
    "  #알고리즘을 이용해 연결된 집합 찾기\n",
    "  connected_sets = merge_sets(FOV_agents)\n",
    "\n",
    "  #연결이 있는 모든 에이전트들\n",
    "  deadlocked_agents = [item for sublist in connected_sets for item in sublist]\n",
    "\n",
    "  for i in range(num_agents):\n",
    "\n",
    "    #교착상태에 빠지지 않은 에이전트는 독립적으로 navigate\n",
    "    if i not in deadlocked_agents:\n",
    "      \n",
    "      a_obs = env.observe()[0][i][1]\n",
    "      x = env.observe()[1][i][1]\n",
    "      y = map_width-env.observe()[1][i][0]\n",
    "      x_finish = toy[2][i][1]\n",
    "      y_finish = map_width-toy[2][i][0]\n",
    "\n",
    "      if a_obs[4][3] == 0:\n",
    "        west = \"\"\"To your west lies a path.\"\"\"\n",
    "      else:\n",
    "        west = \"\"\"Your west is blocked by a wall.\"\"\"\n",
    "\n",
    "      if a_obs[4][5] == 0:\n",
    "        east = \"\"\"To your east lies a path.\"\"\"\n",
    "      else:\n",
    "        east = \"\"\"Your east is blocked by a wall.\"\"\"\n",
    "\n",
    "      if a_obs[5][4] == 0:\n",
    "        south = \"\"\"To your south lies a path.\"\"\"\n",
    "      else:\n",
    "        south = \"\"\"Your south is blocked by a wall.\"\"\"\n",
    "\n",
    "      if a_obs[3][4] == 0:\n",
    "        north = \"\"\"To your north lies a path.\"\"\"\n",
    "      else:\n",
    "        north = \"\"\"Your north is blocked by a wall.\"\"\"\n",
    "\n",
    "      if len(action_list[i]) == 0:\n",
    "        last_action = \"\"\"\"\"\"\n",
    "      elif action_list[i][-1] == 'west':\n",
    "        last_action = f\"\"\"You came from east.\"\"\"\n",
    "      elif action_list[i][-1] == 'east':\n",
    "        last_action = f\"\"\"You came from west.\"\"\"\n",
    "      elif action_list[i][-1] == 'south':\n",
    "        last_action = f\"\"\"You came from north.\"\"\"\n",
    "      elif action_list[i][-1] == 'north':\n",
    "        last_action = f\"\"\"You came from south.\"\"\"\n",
    "      elif action_list[i][-1] == 'stay':\n",
    "        last_action = f\"\"\"You paused once for another agent or you reached your goal.\"\"\"\n",
    "      else:\n",
    "        last_action = \"\"\"\"\"\"\n",
    "\n",
    "      coordinates = f\"\"\"{coordinate_list[i]}\"\"\"\n",
    "\n",
    "      result = pathfinder.navigate(x, y, x_finish, y_finish, east, west, north, south, last_action, coordinates)\n",
    "\n",
    "      result = result.lower().strip('.')\n",
    "\n",
    "      if result not in directiondict:\n",
    "        result = 'stay'\n",
    "\n",
    "      action_list[i].append(result)\n",
    "\n",
    "      step[i] = directiondict[result]\n",
    "    \n",
    "  \n",
    "  # 교착상태에 빠진 에이전트에 대해\n",
    "  for connected_set in connected_sets:\n",
    "    \n",
    "    results = []\n",
    "\n",
    "    for i in connected_set: # 여기서 i는 agent의 번호들\n",
    "    \n",
    "    #각각의 에이전트에 대해 원래 계획된 경로를 계산\n",
    "\n",
    "      a_obs = env.observe()[0][i][1]\n",
    "      x = env.observe()[1][i][1]\n",
    "      y = map_width-env.observe()[1][i][0]\n",
    "      x_finish = toy[2][i][1]\n",
    "      y_finish = map_width-toy[2][i][0]\n",
    "\n",
    "      if a_obs[4][3] == 0:\n",
    "        west = \"\"\"To your west lies a path.\"\"\"\n",
    "      else:\n",
    "        west = \"\"\"Your west is blocked by a wall.\"\"\"\n",
    "\n",
    "      if a_obs[4][5] == 0:\n",
    "        east = \"\"\"To your east lies a path.\"\"\"\n",
    "      else:\n",
    "        east = \"\"\"Your east is blocked by a wall.\"\"\"\n",
    "\n",
    "      if a_obs[5][4] == 0:\n",
    "        south = \"\"\"To your south lies a path.\"\"\"\n",
    "      else:\n",
    "        south = \"\"\"Your south is blocked by a wall.\"\"\"\n",
    "\n",
    "      if a_obs[3][4] == 0:\n",
    "        north = \"\"\"To your north lies a path.\"\"\"\n",
    "      else:\n",
    "        north = \"\"\"Your north is blocked by a wall.\"\"\"\n",
    "\n",
    "      if len(action_list[i]) == 0:\n",
    "        last_action = \"\"\"\"\"\"\n",
    "      elif action_list[i][-1] == 'west':\n",
    "        last_action = f\"\"\"You came from east.\"\"\"\n",
    "      elif action_list[i][-1] == 'east':\n",
    "        last_action = f\"\"\"You came from west.\"\"\"\n",
    "      elif action_list[i][-1] == 'south':\n",
    "        last_action = f\"\"\"You came from north.\"\"\"\n",
    "      elif action_list[i][-1] == 'north':\n",
    "        last_action = f\"\"\"You came from south.\"\"\"\n",
    "      elif action_list[i][-1] == 'stay':\n",
    "        last_action = f\"\"\"You paused once for another agent or you reached your goal.\"\"\"\n",
    "      else:\n",
    "        last_action = \"\"\"\"\"\"\n",
    "\n",
    "      coordinates = f\"\"\"{coordinate_list[i]}\"\"\"\n",
    "\n",
    "      result = pathfinder.navigate(x, y, x_finish, y_finish, east, west, north, south, last_action, coordinates)\n",
    "\n",
    "      result = result.lower().strip('.')\n",
    "\n",
    "      if result not in directiondict:\n",
    "        result = 'stay'\n",
    "\n",
    "      results.append(result)\n",
    "\n",
    "    env_copy = copy.deepcopy(env)\n",
    "    planned_step = [0 for _ in range(num_agents)]\n",
    "    for idx, agent_idx in enumerate(connected_set):\n",
    "      planned_step[agent_idx] = directiondict[results[idx]]\n",
    "    if -0.5 in env_copy.step(planned_step)[1]:\n",
    "      collision = True\n",
    "    else:\n",
    "      collision = False\n",
    "\n",
    "    if not collision:\n",
    "      for idx, agent_idx in enumerate(connected_set):\n",
    "        action_list[agent_idx].append(results[idx])\n",
    "        step[agent_idx] = directiondict[results[idx]]\n",
    "    # 충돌한다면 가장 큰 넘버의 에이전트가 우선권을 가지고, 나머지는 그를 피해가야 함 (이 부분을 좀더 정교화할 필요가 있음, 특히 3명 이상의 에이전트에 대한 경우. 일단 기본적으로는 얽힌 모든 에이전트가 가장 번호가 높은 에이전트에게서 도망가게.)\n",
    "    # 특히, 먼저 도착한 에이전트는 장애물이 되어 그 멈춘 에이전트를 발견한 다른 에이전트의 heuristic map이 업데이트되어야 함 (멈춘 에이전트로 인해 예상치 못한 deadend가 생김)\n",
    "    else:\n",
    "    # 먼저 prior agent는 원래대로 이동하게 함\n",
    "      prior_agent_number = max(connected_set)\n",
    "      prior_agent_idx = connected_set.index(prior_agent_number)\n",
    "      action_list[prior_agent_number].append(results[prior_agent_idx])\n",
    "      step[prior_agent_number] = directiondict[results[prior_agent_idx]]\n",
    "      for i in connected_set:\n",
    "        if i != prior_agent_number:\n",
    "            a_obs = env.observe()[0][i][1]\n",
    "            x = env.observe()[1][i][1]\n",
    "            y = map_width-env.observe()[1][i][0]\n",
    "            x_finish = toy[2][i][1]\n",
    "            y_finish = map_width-toy[2][i][0]\n",
    "\n",
    "            if a_obs[4][3] == 0:\n",
    "                west = \"\"\"To your west lies a path.\"\"\"\n",
    "            else:\n",
    "                west = \"\"\"Your west is blocked by a wall.\"\"\"\n",
    "\n",
    "            if a_obs[4][5] == 0:\n",
    "                east = \"\"\"To your east lies a path.\"\"\"\n",
    "            else:\n",
    "                east = \"\"\"Your east is blocked by a wall.\"\"\"\n",
    "\n",
    "            if a_obs[5][4] == 0:\n",
    "                south = \"\"\"To your south lies a path.\"\"\"\n",
    "            else:\n",
    "                south = \"\"\"Your south is blocked by a wall.\"\"\"\n",
    "\n",
    "            if a_obs[3][4] == 0:\n",
    "                north = \"\"\"To your north lies a path.\"\"\"\n",
    "            else:\n",
    "                north = \"\"\"Your north is blocked by a wall.\"\"\"\n",
    "\n",
    "            # prior agent의 direction 구하기\n",
    "            agent_map = env.observe()[0][i][0][2:7, 2:7]\n",
    "            center = (2, 2)\n",
    "            max_position = np.unravel_index(np.argmax(agent_map), agent_map.shape)\n",
    "\n",
    "            row_diff = center[0] - max_position[0]\n",
    "            col_diff = center[1] - max_position[1]\n",
    "\n",
    "            if row_diff > 0 and col_diff > 0:\n",
    "                direction = \"northwest\"\n",
    "            elif row_diff > 0 and col_diff == 0:\n",
    "                direction = \"north\"\n",
    "            elif row_diff > 0 and col_diff < 0:\n",
    "                direction = \"northeast\"\n",
    "            elif row_diff == 0 and col_diff > 0:\n",
    "                direction = \"west\"\n",
    "            elif row_diff == 0 and col_diff < 0:\n",
    "                direction = \"east\"\n",
    "            elif row_diff < 0 and col_diff > 0:\n",
    "                direction = \"southwest\"\n",
    "            elif row_diff < 0 and col_diff == 0:\n",
    "                direction = \"south\"\n",
    "            elif row_diff < 0 and col_diff < 0:\n",
    "                direction = \"southeast\"\n",
    "            else:\n",
    "                direction = \"center\"\n",
    "\n",
    "            result = pathfinder.give_way(east, west, north, south, direction)\n",
    "\n",
    "            result = result.lower().strip('.')\n",
    "\n",
    "            if result not in directiondict:\n",
    "              result = 'stay'\n",
    "\n",
    "            action_list[i] = []\n",
    "    \n",
    "            step[i] = directiondict[result]\n",
    "\n",
    "\n",
    "  env.step(step)\n",
    "  env.render()"
   ]
  },
  {
   "cell_type": "code",
   "execution_count": 33,
   "metadata": {},
   "outputs": [
    {
     "data": {
      "text/plain": [
       "array([[3, 7],\n",
       "       [3, 8]])"
      ]
     },
     "execution_count": 33,
     "metadata": {},
     "output_type": "execute_result"
    }
   ],
   "source": [
    "env.agents_pos"
   ]
  },
  {
   "cell_type": "code",
   "execution_count": 34,
   "metadata": {},
   "outputs": [
    {
     "data": {
      "text/plain": [
       "array([[ 2, 10],\n",
       "       [ 3,  2]])"
      ]
     },
     "execution_count": 34,
     "metadata": {},
     "output_type": "execute_result"
    }
   ],
   "source": [
    "env.goals_pos"
   ]
  },
  {
   "cell_type": "code",
   "execution_count": 35,
   "metadata": {},
   "outputs": [],
   "source": [
    "step_list = [0, 0]"
   ]
  },
  {
   "cell_type": "code",
   "execution_count": 37,
   "metadata": {},
   "outputs": [],
   "source": [
    "for i in range(num_agents):\n",
    "    if not np.array_equal(env.agents_pos[i], env.goals_pos[i]):\n",
    "        step_list[i] += 1"
   ]
  },
  {
   "cell_type": "code",
   "execution_count": 38,
   "metadata": {},
   "outputs": [
    {
     "data": {
      "text/plain": [
       "[1, 1]"
      ]
     },
     "execution_count": 38,
     "metadata": {},
     "output_type": "execute_result"
    }
   ],
   "source": [
    "step_list"
   ]
  },
  {
   "cell_type": "code",
   "execution_count": 21,
   "metadata": {},
   "outputs": [
    {
     "data": {
      "text/plain": [
       "'east'"
      ]
     },
     "execution_count": 21,
     "metadata": {},
     "output_type": "execute_result"
    },
    {
     "ename": "",
     "evalue": "",
     "output_type": "error",
     "traceback": [
      "\u001b[1;31mThe Kernel crashed while executing code in the current cell or a previous cell. \n",
      "\u001b[1;31mPlease review the code in the cell(s) to identify a possible cause of the failure. \n",
      "\u001b[1;31mClick <a href='https://aka.ms/vscodeJupyterKernelCrash'>here</a> for more info. \n",
      "\u001b[1;31mView Jupyter <a href='command:jupyter.viewOutput'>log</a> for further details."
     ]
    }
   ],
   "source": [
    "response = client.chat.completions.create(\n",
    "        model=\"gpt-4\",\n",
    "        messages=[\n",
    "            {\"role\": \"system\", \"content\": \"You are a veteran adventurer with a great sense of direction. You understand which direction you need to move to get from where you are to where you want to go.\"},\n",
    "            {\"role\": \"user\", \"content\":\n",
    "                f\"\"\"\n",
    "                Your current coordinates are (0,3) and your destination is (10,5).\n",
    "                East and west in the coordinates correspond to the x axis.\n",
    "                South and north in the coordinates correspond to the y axis.\n",
    "                You can only move east, west, south and north or stay.\n",
    "                So, your answer will be {{east}}, {{west}}, {{south}}, {{north}}, or {{stay}}.\n",
    "                You can only make one move at a time.\n",
    "                To your east lies a path.\n",
    "                To your west lies a path.\n",
    "                To your south lies a path.\n",
    "                To your north lies a path.\n",
    "                Below is a list of the coordinates you visited.\n",
    "                [[5, 3],\n",
    "                [6, 3],\n",
    "                [7, 3],\n",
    "                [6, 3],\n",
    "                [5, 3],\n",
    "                [4, 3],\n",
    "                [3, 3],\n",
    "                [2, 3],\n",
    "                [1, 3],\n",
    "                [0, 3],\n",
    "                [1, 3]]\n",
    "                If you keep hovering over coordinates you've already visited, you're in a dead end, and it is recommended that you visit other place.\n",
    "\n",
    "                Which direction do you move next?\n",
    "\n",
    "                Consider whether moving in that direction will take you to the coordinates you visited.\n",
    "\n",
    "                It is not allowed.\n",
    "\n",
    "                Think step by step.\n",
    "\n",
    "                Answer in one word only: {{direction or action}}\"\"\"\n",
    "            }],\n",
    "        )\n",
    "\n",
    "response.choices[0].message.content"
   ]
  },
  {
   "cell_type": "code",
   "execution_count": null,
   "metadata": {},
   "outputs": [],
   "source": []
  }
 ],
 "metadata": {
  "kernelspec": {
   "display_name": "Python 3 (ipykernel)",
   "language": "python",
   "name": "python3"
  },
  "language_info": {
   "codemirror_mode": {
    "name": "ipython",
    "version": 3
   },
   "file_extension": ".py",
   "mimetype": "text/x-python",
   "name": "python",
   "nbconvert_exporter": "python",
   "pygments_lexer": "ipython3",
   "version": "3.10.14"
  }
 },
 "nbformat": 4,
 "nbformat_minor": 4
}
