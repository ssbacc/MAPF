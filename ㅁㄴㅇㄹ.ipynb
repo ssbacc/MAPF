{
 "cells": [
  {
   "cell_type": "code",
   "execution_count": 34,
   "metadata": {},
   "outputs": [],
   "source": [
    "from openai import OpenAI\n",
    "import os\n",
    "from groq import Groq\n",
    "import copy\n",
    "import configs\n",
    "import pickle\n",
    "import re\n",
    "\n",
    "os.environ[\"OPENAI_API_KEY\"] = \"\"\n",
    "client = OpenAI()"
   ]
  },
  {
   "cell_type": "code",
   "execution_count": 72,
   "metadata": {},
   "outputs": [],
   "source": [
    "response = client.chat.completions.create(\n",
    "        model=\"gpt-4\",\n",
    "        messages=[\n",
    "            {\"role\": \"system\", \"content\": \"당신은 방향 감각이 뛰어난 탐험가입니다. 당신은 목표물에 도달하기 위해서 어떤 경로를 탐색하야 할지 잘 압니다.\"},\n",
    "            {\"role\": \"user\", \"content\":\n",
    "                f\"\"\"\n",
    "                당신의 현재 좌표는 (131,134) 이며 당신의 목표 지점은 (23,200) 입니다.\n",
    "                서쪽은 -x축에 대응합니다\n",
    "                동쪽은 +x축에 대응합니다\n",
    "                남쪽은 -y축에 대응합니다\n",
    "                북쪽은 +y축에 대응합니다\n",
    "\n",
    "                1. 당신의 목표 지점은 당신으로부터 어느 방향에 있는지 한 단어로 말하시오.\n",
    "                \n",
    "                Example: {{south}}, {{southwest}}, {{west}}, {{northwest}}, {{north}}, {{northeast}}, {{east}}, {{southeast}}\n",
    "                \n",
    "                당신은 가로로 긴 창고 환경에 있기 때문에, y축으로 이동이 가능할 때는 y축을 먼저 이용하는 것이 강력하게 추천됩니다. (남쪽과 북쪽)\n",
    "                당신의 동쪽은 벽으로 막혀 있습니다.\n",
    "                당신의 서쪽은 열려 있습니다.\n",
    "                당신의 북쪽은 열려 있습니다.\n",
    "                당신의 남쪽은 열려 있습니다.\n",
    "\n",
    "                당신은 한 번에 한 번만 움직일 수 있습니다.\n",
    "                당신은 동쪽, 서쪽, 남쪽, 북쪽, 그리고 가만히 있기 5가지의 선택지가 있습니다.\n",
    "                따라서, 당신의 답은 east, west, south, north, stay 중 하나가 됩니다.\n",
    "\n",
    "                2. 당신은 다음 어느 방향으로 움직일지 한 단어로 말하시오.\n",
    "\n",
    "                Example: {{east}}, {{west}}, {{south}}, {{north}}, {{stay}}\n",
    "\n",
    "                아래는 바람직한 답변의 예시입니다. 토큰을 많이 쓰지 마세요.\n",
    "                1. {{southeast}}\n",
    "                2. {{south}}\n",
    "                \"\"\"\n",
    "            }],\n",
    "        )\n",
    "\n",
    "result = response.choices[0].message.content"
   ]
  },
  {
   "cell_type": "code",
   "execution_count": 74,
   "metadata": {},
   "outputs": [
    {
     "data": {
      "text/plain": [
       "'north'"
      ]
     },
     "execution_count": 74,
     "metadata": {},
     "output_type": "execute_result"
    }
   ],
   "source": [
    "lines = result.split('\\n')\n",
    "\n",
    "for line in lines:\n",
    "    match = re.search(r'\\d+\\.\\s*(\\w+)', line)\n",
    "    if match:\n",
    "        direction = match.group(1).lower()\n",
    "\n",
    "direction"
   ]
  },
  {
   "cell_type": "code",
   "execution_count": 79,
   "metadata": {},
   "outputs": [],
   "source": [
    "response = client.chat.completions.create(\n",
    "        model=\"gpt-4\",\n",
    "        messages=[\n",
    "            {\"role\": \"system\", \"content\": \"당신은 방향 감각이 뛰어난 탐험가입니다. 당신은 목표물에 도달하기 위해서 어떤 경로를 탐색하야 할지 잘 압니다.\"},\n",
    "            {\"role\": \"user\", \"content\":\n",
    "                f\"\"\"\n",
    "                당신의 목표 지점은 당신의 북동쪽 방향에 있습니다.\n",
    "                \n",
    "                당신은 가로로 긴 창고 환경에 있기 때문에, y축으로 이동이 가능할 때는 y축을 먼저 이용하는 것이 강력하게 추천됩니다. (남쪽과 북쪽)\n",
    "                당신의 동쪽은 벽으로 막혀 있습니다.\n",
    "                당신의 서쪽은 열려 있습니다.\n",
    "                당신의 북쪽은 열려 있습니다.\n",
    "                당신의 남쪽은 열려 있습니다.\n",
    "\n",
    "                당신은 한 번에 한 번만 움직일 수 있습니다.\n",
    "                당신은 동쪽, 서쪽, 남쪽, 북쪽, 그리고 가만히 있기 5가지의 선택지가 있습니다.\n",
    "                따라서, 당신의 답은 east, west, south, north, stay 중 하나가 됩니다.\n",
    "\n",
    "                당신은 가로로 긴 창고 환경에 있기 때문에, y축으로 이동이 가능할 때는 y축을 먼저 이용하는 것이 강력하게 추천됩니다.\n",
    "                즉, 남쪽과 북쪽이 동쪽과 서쪽보다 선호됩니다. 이것은 매우 중요합니다.\n",
    "            \n",
    "                당신은 다음 어느 방향으로 움직일지 한 단어로 말하시오.\n",
    "\n",
    "                Example: east, west, south, north, stay\n",
    "\n",
    "                아래는 바람직한 답변의 예시입니다. 토큰을 많이 쓰지 마세요.\n",
    "                south\n",
    "                \"\"\"\n",
    "            }],\n",
    "        )\n",
    "\n",
    "result = response.choices[0].message.content"
   ]
  },
  {
   "cell_type": "code",
   "execution_count": 80,
   "metadata": {},
   "outputs": [
    {
     "data": {
      "text/plain": [
       "'north'"
      ]
     },
     "execution_count": 80,
     "metadata": {},
     "output_type": "execute_result"
    }
   ],
   "source": [
    "result"
   ]
  },
  {
   "cell_type": "code",
   "execution_count": 26,
   "metadata": {},
   "outputs": [],
   "source": [
    "client = Groq(api_key=\"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\")"
   ]
  },
  {
   "cell_type": "code",
   "execution_count": 32,
   "metadata": {},
   "outputs": [
    {
     "data": {
      "text/plain": [
       "'1. Your target point is northeast.\\n\\n2. north'"
      ]
     },
     "execution_count": 32,
     "metadata": {},
     "output_type": "execute_result"
    }
   ],
   "source": [
    "response = client.chat.completions.create(\n",
    "        model=\"llama3-8b-8192\",\n",
    "        messages=[\n",
    "            {\"role\": \"system\", \"content\": \"당신은 방향 감각이 뛰어난 탐험가입니다. 당신은 목표물에 도달하기 위해서 어떤 경로를 탐색하야 할지 잘 압니다.\"},\n",
    "            {\"role\": \"user\", \"content\":\n",
    "                f\"\"\"\n",
    "                당신의 현재 좌표는 (131,134) 이며 당신의 목표 지점은 (23,200) 입니다.\n",
    "                서쪽은 -x축에 대응합니다\n",
    "                동쪽은 +x축에 대응합니다\n",
    "                남쪽은 -y축에 대응합니다\n",
    "                북쪽은 +y축에 대응합니다\n",
    "\n",
    "                1. 당신의 목표 지점은 당신으로부터 어느 방향에 있는지 한 단어로 말하시오.\n",
    "                \n",
    "                Example: south, southwest, west, northwest, north, northeast, east, southeast\n",
    "                \n",
    "                당신은 가로로 긴 창고 환경에 있기 때문에, y축으로 이동이 가능할 때는 y축을 먼저 이용하는 것이 강력하게 추천됩니다. (남쪽과 북쪽)\n",
    "                당신의 동쪽은 벽으로 막혀 있습니다.\n",
    "                당신의 서쪽은 열려 있습니다.\n",
    "                당신의 북쪽은 열려 있습니다.\n",
    "                당신의 남쪽은 열려 있습니다.\n",
    "\n",
    "                당신은 한 번에 한 번만 움직일 수 있습니다.\n",
    "                당신은 동쪽, 서쪽, 남쪽, 북쪽, 그리고 가만히 있기 5가지의 선택지가 있습니다.\n",
    "                따라서, 당신의 답은 east, west, south, north, stay 중 하나가 됩니다.\n",
    "\n",
    "                2. 당신은 다음 어느 방향으로 움직일지 한 단어로 말하시오.\n",
    "\n",
    "                Example: east, west, south, north, stay\n",
    "                \"\"\"\n",
    "            }],\n",
    "        )\n",
    "\n",
    "response.choices[0].message.content"
   ]
  }
 ],
 "metadata": {
  "kernelspec": {
   "display_name": "mapf",
   "language": "python",
   "name": "python3"
  },
  "language_info": {
   "codemirror_mode": {
    "name": "ipython",
    "version": 3
   },
   "file_extension": ".py",
   "mimetype": "text/x-python",
   "name": "python",
   "nbconvert_exporter": "python",
   "pygments_lexer": "ipython3",
   "version": "3.10.14"
  }
 },
 "nbformat": 4,
 "nbformat_minor": 2
}
